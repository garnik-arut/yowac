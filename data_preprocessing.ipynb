{
  "cells": [
    {
      "cell_type": "markdown",
      "source": [
        "# Dependencies and prerequisites"
      ],
      "metadata": {
        "collapsed": false,
        "pycharm": {
          "name": "#%% md\n"
        },
        "id": "UFUH9w_GD2ZK"
      }
    },
    {
      "cell_type": "code",
      "execution_count": null,
      "outputs": [
        {
          "name": "stderr",
          "output_type": "stream",
          "text": [
            "[nltk_data] Downloading package punkt to\n",
            "[nltk_data]     C:\\Users\\Garnik\\AppData\\Roaming\\nltk_data...\n",
            "[nltk_data]   Package punkt is already up-to-date!\n"
          ]
        }
      ],
      "source": [
        "# Plots\n",
        "import matplotlib.pyplot as plt\n",
        "# Math\n",
        "import numpy as np\n",
        "# Keystone of whole processing - NLTK\n",
        "from nltk import tokenize\n",
        "import nltk\n",
        "nltk.download('punkt')\n",
        "# DataFrames\n",
        "import pandas as pd\n",
        "# File operations\n",
        "from pathlib import Path\n",
        "# Regular expression for optimal string processing.\n",
        "import re\n",
        "# Pretty print. Not nessesary but I quite like it.\n",
        "import pprint\n",
        "pp = pprint.PrettyPrinter(indent=4)\n",
        "\n",
        "# Consistent seed will keep you sane - Andrej Karpathy\n",
        "import random\n",
        "random.seed(42)\n",
        "from random import shuffle\n",
        "\n",
        "# Language detection by Nakatani Shuyo\n",
        "from langdetect import detect, DetectorFactory\n",
        "# NOTE\n",
        "# Language detection algorithm is non-deterministic, \n",
        "# which means that if you try to run it on a text which is either too short \n",
        "# or too ambiguous, you might get different results everytime you run it.\n",
        "# To enforce consistent results, \n",
        "# call following code before the first language detection:\n",
        "DetectorFactory.seed = 0\n",
        "\n",
        "# JSON - not that required, if you dont like it, use other tool to save \n",
        "# sentences in different languages separately.\n",
        "import json"
      ],
      "metadata": {
        "pycharm": {
          "name": "#%%\n"
        },
        "id": "M0UKPeP5D2ZN",
        "outputId": "811de47d-e6fc-41b0-9097-8a04bcfbc5ee"
      }
    },
    {
      "cell_type": "markdown",
      "source": [
        "# Input data\n",
        "Load the files.\n",
        "Feel free to change the variable data_file to be your txt file."
      ],
      "metadata": {
        "collapsed": false,
        "pycharm": {
          "name": "#%% md\n"
        },
        "id": "Jo7t4jwRD2ZO"
      }
    },
    {
      "cell_type": "code",
      "execution_count": null,
      "outputs": [
        {
          "name": "stdout",
          "output_type": "stream",
          "text": [
            "Dataset contains 0 lines.\n",
            "First 30 lines\n",
            "[   'First Citizen:\\n',\n",
            "    'Before we proceed any further, hear me speak.\\n',\n",
            "    '\\n',\n",
            "    'All:\\n',\n",
            "    'Speak, speak.\\n',\n",
            "    'Test.\\n',\n",
            "    'Best.\\n',\n",
            "    '\\n',\n",
            "    'First Citizen:\\n',\n",
            "    'You are all resolved rather to die than to famish?\\n',\n",
            "    '\\n',\n",
            "    'All:\\n',\n",
            "    'Resolved. resolved.\\n',\n",
            "    '\\n',\n",
            "    'First Citizen:\\n',\n",
            "    'First, you know Caius Marcius is chief enemy to the people.\\n',\n",
            "    '\\n',\n",
            "    'All:\\n',\n",
            "    \"We know't, we know't.\\n\",\n",
            "    '\\n',\n",
            "    'First Citizen:\\n',\n",
            "    \"Let us kill him, and we'll have corn at our own price.\\n\",\n",
            "    \"Is't a verdict?\\n\",\n",
            "    '\\n',\n",
            "    'All:\\n',\n",
            "    \"No more talking on't; let it be done: away, away!\\n\",\n",
            "    '\\n',\n",
            "    'Second Citizen:\\n',\n",
            "    'One word, good citizens.\\n',\n",
            "    '\\n']\n"
          ]
        }
      ],
      "source": [
        "lines = []\n",
        "data_file = Path('data/tiny_s/tiny_shakespeare.txt')\n",
        "with data_file.open() as fd:\n",
        "    original_lines = fd.readlines()\n",
        "N = len(lines)\n",
        "print(f'Dataset contains {N} lines.')\n",
        "print('First 30 lines')\n",
        "pp.pprint(original_lines[:30])"
      ],
      "metadata": {
        "pycharm": {
          "name": "#%%\n"
        },
        "id": "gQVNdo5iD2ZP",
        "outputId": "5e9d11a3-c071-4a06-bbbb-3f7a77dcd0af"
      }
    },
    {
      "cell_type": "markdown",
      "source": [
        "# Preprocessing\n",
        "In case of Shakespeare dataset we delete empty lines and speaking person notation."
      ],
      "metadata": {
        "collapsed": false,
        "pycharm": {
          "name": "#%% md\n"
        },
        "id": "DlAkNmJND2ZP"
      }
    },
    {
      "cell_type": "code",
      "execution_count": null,
      "outputs": [
        {
          "name": "stdout",
          "output_type": "stream",
          "text": [
            "Filtered dataset has 25558 lines.\n"
          ]
        }
      ],
      "source": [
        "lines = []\n",
        "flag = False\n",
        "re_speaker = re.compile('^\\n.*:\\n$') # Since speaker always precedes with \\n and ends with :\\n double line approach is useful\n",
        "for line1, line2 in zip(original_lines[1:], original_lines[2:]):\n",
        "    if flag:\n",
        "        flag = False\n",
        "        continue\n",
        "    line = line1 + line2\n",
        "    if re_speaker.fullmatch(line):\n",
        "        flag = True\n",
        "    else:\n",
        "        lines.append(line1)\n",
        "\n",
        "# pp.pprint(lines[:30])\n",
        "print(f'Filtered dataset has {len(lines)} lines.')"
      ],
      "metadata": {
        "pycharm": {
          "name": "#%%\n"
        },
        "id": "rGY6IJ-tD2ZP",
        "outputId": "d84850b1-1534-4fdb-fa5a-24a3f14f8230"
      }
    },
    {
      "cell_type": "markdown",
      "source": [
        "If you are using other languages I recommend filtering out unbreakable spaces `\\xa0` for French language and generally repeated whitespace characters overall."
      ],
      "metadata": {
        "id": "q8FHKtp0FIPS"
      }
    },
    {
      "cell_type": "code",
      "source": [
        "for line in lines:\n",
        "  line = re.sub(r'(\\s|\\xa0)+', ' ', line)"
      ],
      "metadata": {
        "id": "guoOEeHkFEAv"
      },
      "execution_count": null,
      "outputs": []
    },
    {
      "cell_type": "markdown",
      "source": [
        "# Statistics\n",
        "Save the dataset and use nltk to get some insights. We will actually use HuggingFace tokenizers later, but for now nltk is useful."
      ],
      "metadata": {
        "collapsed": false,
        "pycharm": {
          "name": "#%% md\n"
        },
        "id": "w8qXgPKhD2ZQ"
      }
    },
    {
      "cell_type": "code",
      "execution_count": null,
      "outputs": [],
      "source": [
        "#Save\n",
        "output_file = Path('data/tiny_s/tiny_shakespeare_01_simple_filtered.txt')\n",
        "with output_file.open(mode='w', encoding='utf-8') as fd:\n",
        "    fd.writelines(lines)"
      ],
      "metadata": {
        "pycharm": {
          "name": "#%%\n"
        },
        "id": "hKJ4tCe-D2ZQ"
      }
    },
    {
      "cell_type": "markdown",
      "source": [
        "Get sentences."
      ],
      "metadata": {
        "id": "v8VczQ52Jkd1"
      }
    },
    {
      "cell_type": "code",
      "execution_count": null,
      "outputs": [
        {
          "data": {
            "text/plain": "12460"
          },
          "execution_count": 144,
          "metadata": {},
          "output_type": "execute_result"
        }
      ],
      "source": [
        "sentences = tokenize.sent_tokenize(' '.join(lines).replace('\\n',''), language='english')\n",
        "len(sentences)"
      ],
      "metadata": {
        "pycharm": {
          "name": "#%%\n"
        },
        "id": "sudrMoeyD2ZR",
        "outputId": "ae455a3e-1d3f-418a-dd85-c00ffd652e7a"
      }
    },
    {
      "cell_type": "markdown",
      "source": [
        "If you have multiple languages in your text, it is a good idea to run following block to sort them to languge bins. Look through the sentences that didn't get recognized or were recongized unexpectedly. Usually it useful to just throw them out since they have a lot of typos or tokenizer had problems with them (yes, german tokenizer, I'm looking at you)."
      ],
      "metadata": {
        "id": "qTFcFJXNGCKP"
      }
    },
    {
      "cell_type": "code",
      "source": [
        "# split text into sentences\n",
        "sentence_lang = {}\n",
        "\n",
        "for sentence in sentences:\n",
        "    try:\n",
        "        lang = detect(sentence)\n",
        "        if lang not in sentence_lang.keys():\n",
        "            sentence_lang[lang] = []\n",
        "        sentence_lang[lang].append(sentence)\n",
        "#         print(f\"'{sentence}' is in {lang}\")\n",
        "    except:\n",
        "        print(f\"Could not detect language of '{sentence}'\")\n",
        "\n",
        "for key in sentence_lang.keys():\n",
        "    print(\"language \", key, \" , len =\",len(sentence_lang[key]))\n",
        "# Dump into JSON if you wish to do so\n",
        "json_file = Path('data/tiny_s/tiny_shakespeare.json').touch(exist_ok=True)\n",
        "with json_file.open(\"w\", encoding=\"UTF-8\") as fd:\n",
        "  json.dump(sentence_lang, fd)"
      ],
      "metadata": {
        "id": "vHYiJ9ipF9Ek"
      },
      "execution_count": null,
      "outputs": []
    },
    {
      "cell_type": "markdown",
      "source": [
        "Check how many words are in sentences. If you have 200 words in a sentence, better check it."
      ],
      "metadata": {
        "collapsed": false,
        "pycharm": {
          "name": "#%% md\n"
        },
        "id": "G54CJYZ2D2ZR"
      }
    },
    {
      "cell_type": "code",
      "execution_count": null,
      "outputs": [
        {
          "name": "stdout",
          "output_type": "stream",
          "text": [
            "211\n"
          ]
        },
        {
          "data": {
            "text/plain": "<Figure size 1440x720 with 1 Axes>",
            "image/png": "[encoded data removed]"
          },
          "metadata": {
            "needs_background": "light"
          },
          "output_type": "display_data"
        }
      ],
      "source": [
        "def count_words(s):\n",
        "    return len(tokenize.regexp_tokenize(s, r'\\w+'))\n",
        "\n",
        "m = max(list(map(count_words, sentences)))\n",
        "print(m)\n",
        "fig, ax = plt.subplots(figsize=(20, 10))\n",
        "n, b, _ = ax.hist(list(map(count_words, sentences)), bins=m-1)\n",
        "plt.xticks(np.arange(0, m+1, 5))\n",
        "plt.show()"
      ],
      "metadata": {
        "pycharm": {
          "name": "#%%\n"
        },
        "id": "aHFezAhRD2ZR",
        "outputId": "7c54f1e7-a426-464a-ec46-57ff225d4346"
      }
    },
    {
      "cell_type": "code",
      "execution_count": null,
      "outputs": [
        {
          "data": {
            "text/plain": "\"This royal throne of kings, this scepter'd isle, This earth of majesty, this seat of Mars, This other Eden, demi-paradise, This fortress built by Nature for herself Against infection and the hand of war, This happy breed of men, this little world, This precious stone set in the silver sea, Which serves it in the office of a wall, Or as a moat defensive to a house, Against the envy of less happier lands, This blessed plot, this earth, this realm, this England, This nurse, this teeming womb of royal kings, Fear'd by their breed and famous by their birth, Renowned for their deeds as far from home, For Christian service and true chivalry, As is the sepulchre in stubborn Jewry, Of the world's ransom, blessed Mary's Son, This land of such dear souls, this dear dear land, Dear for her reputation through the world, Is now leased out, I die pronouncing it, Like to a tenement or pelting farm: England, bound in with the triumphant sea Whose rocky shore beats back the envious siege Of watery Neptune, is now bound in with shame, With inky blots and rotten parchment bonds: That England, that was wont to conquer others, Hath made a shameful conquest of itself.\""
          },
          "execution_count": 146,
          "metadata": {},
          "output_type": "execute_result"
        }
      ],
      "source": [
        "# Let's see the max length sentence. Yes, Sir William Shakespeare managed 200+ word sentence.\n",
        "index_max = np.argmax(list(map(count_words, sentences)))\n",
        "sentences[index_max]"
      ],
      "metadata": {
        "pycharm": {
          "name": "#%%\n"
        },
        "id": "8Mfjq_8ED2ZS",
        "outputId": "6f39e8e6-852b-4cc3-82a8-a2f7986bd13a"
      }
    },
    {
      "cell_type": "code",
      "execution_count": null,
      "outputs": [
        {
          "data": {
            "text/plain": "           occurences\nwhat!              17\nhow!               16\nha!                14\nno.                 9\naway!               8\n...               ...\nmarry.              1\nroyally!            1\n'zounds!            1\nguilty!             1\ncarthage?           1\n\n[173 rows x 1 columns]",
            "text/html": "<div>\n<style scoped>\n    .dataframe tbody tr th:only-of-type {\n        vertical-align: middle;\n    }\n\n    .dataframe tbody tr th {\n        vertical-align: top;\n    }\n\n    .dataframe thead th {\n        text-align: right;\n    }\n</style>\n<table border=\"1\" class=\"dataframe\">\n  <thead>\n    <tr style=\"text-align: right;\">\n      <th></th>\n      <th>occurences</th>\n    </tr>\n  </thead>\n  <tbody>\n    <tr>\n      <th>what!</th>\n      <td>17</td>\n    </tr>\n    <tr>\n      <th>how!</th>\n      <td>16</td>\n    </tr>\n    <tr>\n      <th>ha!</th>\n      <td>14</td>\n    </tr>\n    <tr>\n      <th>no.</th>\n      <td>9</td>\n    </tr>\n    <tr>\n      <th>away!</th>\n      <td>8</td>\n    </tr>\n    <tr>\n      <th>...</th>\n      <td>...</td>\n    </tr>\n    <tr>\n      <th>marry.</th>\n      <td>1</td>\n    </tr>\n    <tr>\n      <th>royally!</th>\n      <td>1</td>\n    </tr>\n    <tr>\n      <th>'zounds!</th>\n      <td>1</td>\n    </tr>\n    <tr>\n      <th>guilty!</th>\n      <td>1</td>\n    </tr>\n    <tr>\n      <th>carthage?</th>\n      <td>1</td>\n    </tr>\n  </tbody>\n</table>\n<p>173 rows × 1 columns</p>\n</div>"
          },
          "execution_count": 147,
          "metadata": {},
          "output_type": "execute_result"
        }
      ],
      "source": [
        "# check for single word sentences. Sometimes you want to delete them or leave only unique.\n",
        "unique = {}\n",
        "for sentence in sentences:\n",
        "    sentence = sentence.lower()\n",
        "    if count_words(sentence) == 1:\n",
        "        if sentence not in unique.keys():\n",
        "            unique[sentence] = 1\n",
        "        else:\n",
        "            unique[sentence] +=1\n",
        "single_sent_counts = pd.DataFrame(unique, index=['occurences']).T.sort_values('occurences', ascending=False)\n",
        "single_sent_counts"
      ],
      "metadata": {
        "pycharm": {
          "name": "#%%\n"
        },
        "id": "RcG-6l6kD2ZS",
        "outputId": "4e68a17e-4c9d-4246-cceb-a989dbd8b8bc"
      }
    },
    {
      "cell_type": "markdown",
      "source": [
        "We can preserve some of more often used ones and remove other ones with occurences > 2 but there is no need for that."
      ],
      "metadata": {
        "collapsed": false,
        "pycharm": {
          "name": "#%% md\n"
        },
        "id": "Lg89m6y3D2ZS"
      }
    },
    {
      "cell_type": "code",
      "execution_count": null,
      "outputs": [],
      "source": [
        "# Uncomment if you want to\n",
        "# Preserve\n",
        "# single_sent_counts.drop(index='what!', inplace=True)\n",
        "# single_sent_counts.drop(index='what?', inplace=True)\n",
        "# Remove\n",
        "# sentences = list(filter(lambda s: s not in single_sent_counts.index[single_sent_counts['occurences'] > 2].tolist(), sentences))"
      ],
      "metadata": {
        "pycharm": {
          "name": "#%%\n"
        },
        "id": "c0RgkhdCD2ZS"
      }
    },
    {
      "cell_type": "markdown",
      "source": [
        "Save"
      ],
      "metadata": {
        "collapsed": false,
        "pycharm": {
          "name": "#%% md\n"
        },
        "id": "c-xhaZ_9D2ZT"
      }
    },
    {
      "cell_type": "code",
      "execution_count": null,
      "outputs": [],
      "source": [
        "# Save\n",
        "output_file = Path('data/tiny_s/tiny_shakespeare_02_fine_filtered.txt')\n",
        "with output_file.open(mode='w', encoding='utf-8') as fd:\n",
        "    fd.writelines(sentences)"
      ],
      "metadata": {
        "pycharm": {
          "name": "#%%\n"
        },
        "id": "jjptwROjD2ZT"
      }
    },
    {
      "cell_type": "markdown",
      "source": [
        "Shuffle and create splits."
      ],
      "metadata": {
        "collapsed": false,
        "pycharm": {
          "name": "#%% md\n"
        },
        "id": "SlhVOEwdD2ZT"
      }
    },
    {
      "cell_type": "code",
      "execution_count": null,
      "outputs": [],
      "source": [
        "shuffle(sentences)\n",
        "output_file = Path('data/tiny_s/tiny_shakespeare_03_shuffled.txt')\n",
        "with output_file.open(mode='w', encoding='utf-8') as fd:\n",
        "    fd.writelines(sentences)"
      ],
      "metadata": {
        "pycharm": {
          "name": "#%%\n"
        },
        "id": "uZqobiT9D2ZT"
      }
    },
    {
      "cell_type": "code",
      "execution_count": null,
      "outputs": [
        {
          "name": "stdout",
          "output_type": "stream",
          "text": [
            "Full set has 198704 tokens.\n",
            "Training set has 158158 tokens, which is 79.6% of dataset.\n",
            "Test set has 19766 tokens, which is 9.9% of dataset.\n",
            "Validation set has 20780 tokens, which is 10.5% of dataset.\n"
          ]
        }
      ],
      "source": [
        "# Not exactly 80% since sentences are different, but we can check the actual token count later.\n",
        "# If it is close enough to 80% it's fine\n",
        "# You can actually use scikit train_test_split, but since we manually shuffled, we can keep it simple.\n",
        "train_index = int(0.8 * len(sentences))\n",
        "test_index = int(0.9 * len(sentences))\n",
        "\n",
        "\n",
        "train_set = sentences[:train_index]\n",
        "test_set = sentences[train_index:test_index]\n",
        "val_set = sentences[test_index:]\n",
        "\n",
        "full_token_count = np.sum(list(map(count_words, sentences)))\n",
        "train_token_count = np.sum(list(map(count_words, train_set)))\n",
        "test_token_count = np.sum(list(map(count_words, test_set)))\n",
        "val_token_count = np.sum(list(map(count_words, val_set)))\n",
        "\n",
        "\n",
        "print(f'Full set has {full_token_count} tokens.')\n",
        "print(f'Training set has {train_token_count} tokens, which is {train_token_count/full_token_count*100:.1f}% of dataset.')\n",
        "print(f'Test set has {test_token_count} tokens, which is {test_token_count/full_token_count*100:.1f}% of dataset.')\n",
        "print(f'Validation set has {val_token_count} tokens, which is {val_token_count/full_token_count*100:.1f}% of dataset.')\n",
        "\n",
        "train_file = Path('data/tiny_s/tiny_shakespeare_04_train.txt')\n",
        "with train_file.open(mode='w', encoding='utf-8') as fd:\n",
        "    fd.writelines(train_set)\n",
        "\n",
        "test_file = Path('data/tiny_s/tiny_shakespeare_04_test.txt')\n",
        "with test_file.open(mode='w', encoding='utf-8') as fd:\n",
        "    fd.writelines(test_set)\n",
        "\n",
        "val_file = Path('data/tiny_s/tiny_shakespeare_04_val.txt')\n",
        "with val_file.open(mode='w', encoding='utf-8') as fd:\n",
        "    fd.writelines(val_set)"
      ],
      "metadata": {
        "pycharm": {
          "name": "#%%\n"
        },
        "id": "MBGjKcHtD2ZT",
        "outputId": "4d3af6df-16c3-48af-bf73-4ca2e5e2572e"
      }
    }
  ],
  "metadata": {
    "kernelspec": {
      "display_name": "Python 3",
      "language": "python",
      "name": "python3"
    },
    "language_info": {
      "codemirror_mode": {
        "name": "ipython",
        "version": 2
      },
      "file_extension": ".py",
      "mimetype": "text/x-python",
      "name": "python",
      "nbconvert_exporter": "python",
      "pygments_lexer": "ipython2",
      "version": "2.7.6"
    },
    "colab": {
      "provenance": []
    }
  },
  "nbformat": 4,
  "nbformat_minor": 0
}